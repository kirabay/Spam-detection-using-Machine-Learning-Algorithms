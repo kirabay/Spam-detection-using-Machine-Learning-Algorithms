{
  "nbformat": 4,
  "nbformat_minor": 0,
  "metadata": {
    "interpreter": {
      "hash": "37cf18780bd6fcb1c66d5e519af23733c4b55e7772f577bb8c8e8f327fd83ac8"
    },
    "kernelspec": {
      "display_name": "Python 3 (ipykernel)",
      "language": "python",
      "name": "python3"
    },
    "language_info": {
      "codemirror_mode": {
        "name": "ipython",
        "version": 3
      },
      "file_extension": ".py",
      "mimetype": "text/x-python",
      "name": "python",
      "nbconvert_exporter": "python",
      "pygments_lexer": "ipython3",
      "version": "3.8.5"
    },
    "colab": {
      "name": "spam_mail_classifier.ipynb",
      "provenance": [],
      "collapsed_sections": []
    },
    "accelerator": "GPU"
  },
  "cells": [
    {
      "cell_type": "markdown",
      "metadata": {
        "id": "Igve5iRrj45c"
      },
      "source": [
        "### Dataset contenet & explanations \n",
        "###### File - spam_ham_dataset.csv\n",
        "\n",
        "|Feature & Label name|Explanation|\n",
        "|:--|:--|  \n",
        "|label|spam or ham|\n",
        "|text|the text which can be spam or ham|\n",
        "|label_num|spam:1, ham:0|"
      ]
    },
    {
      "cell_type": "code",
      "metadata": {
        "id": "9Bo6nxfqj45e"
      },
      "source": [
        "import pandas as pd\n",
        "import numpy as np\n",
        "import matplotlib.pyplot as plt\n",
        "%matplotlib inline\n",
        "import seaborn as sns"
      ],
      "execution_count": null,
      "outputs": []
    },
    {
      "cell_type": "code",
      "metadata": {
        "id": "em40fn0wj45h"
      },
      "source": [
        "# import os\n",
        "# for dirname, _, filenames in os.walk('./'):\n",
        "#     for filename in filenames:\n",
        "#         print(os.path.join(dirname,filename))"
      ],
      "execution_count": null,
      "outputs": []
    },
    {
      "cell_type": "code",
      "metadata": {
        "id": "WPU-xtOJj_Xg"
      },
      "source": [
        "from google.colab import drive\n",
        "drive.mount('/content/drive')"
      ],
      "execution_count": null,
      "outputs": []
    },
    {
      "cell_type": "code",
      "metadata": {
        "colab": {
          "base_uri": "https://localhost:8080/",
          "height": 419
        },
        "id": "U0f72zQSj45i",
        "outputId": "7c51903a-7e41-4034-f7ed-5c4f343e8c28"
      },
      "source": [
        "spam_df = pd.read_csv('spam_ham_dataset.csv', index_col='Unnamed: 0') \n",
        "#sort index \n",
        "spam_df_sorted = spam_df.sort_index()\n",
        "spam_df_sorted"
      ],
      "execution_count": null,
      "outputs": [
        {
          "output_type": "execute_result",
          "data": {
            "text/html": [
              "<div>\n",
              "<style scoped>\n",
              "    .dataframe tbody tr th:only-of-type {\n",
              "        vertical-align: middle;\n",
              "    }\n",
              "\n",
              "    .dataframe tbody tr th {\n",
              "        vertical-align: top;\n",
              "    }\n",
              "\n",
              "    .dataframe thead th {\n",
              "        text-align: right;\n",
              "    }\n",
              "</style>\n",
              "<table border=\"1\" class=\"dataframe\">\n",
              "  <thead>\n",
              "    <tr style=\"text-align: right;\">\n",
              "      <th></th>\n",
              "      <th>label</th>\n",
              "      <th>text</th>\n",
              "      <th>label_num</th>\n",
              "    </tr>\n",
              "  </thead>\n",
              "  <tbody>\n",
              "    <tr>\n",
              "      <th>0</th>\n",
              "      <td>ham</td>\n",
              "      <td>Subject: christmas tree farm pictures\\r\\n</td>\n",
              "      <td>0</td>\n",
              "    </tr>\n",
              "    <tr>\n",
              "      <th>1</th>\n",
              "      <td>ham</td>\n",
              "      <td>Subject: vastar resources , inc .\\r\\ngary , pr...</td>\n",
              "      <td>0</td>\n",
              "    </tr>\n",
              "    <tr>\n",
              "      <th>2</th>\n",
              "      <td>ham</td>\n",
              "      <td>Subject: calpine daily gas nomination\\r\\n- cal...</td>\n",
              "      <td>0</td>\n",
              "    </tr>\n",
              "    <tr>\n",
              "      <th>3</th>\n",
              "      <td>ham</td>\n",
              "      <td>Subject: re : issue\\r\\nfyi - see note below - ...</td>\n",
              "      <td>0</td>\n",
              "    </tr>\n",
              "    <tr>\n",
              "      <th>4</th>\n",
              "      <td>ham</td>\n",
              "      <td>Subject: meter 7268 nov allocation\\r\\nfyi .\\r\\...</td>\n",
              "      <td>0</td>\n",
              "    </tr>\n",
              "    <tr>\n",
              "      <th>...</th>\n",
              "      <td>...</td>\n",
              "      <td>...</td>\n",
              "      <td>...</td>\n",
              "    </tr>\n",
              "    <tr>\n",
              "      <th>5166</th>\n",
              "      <td>spam</td>\n",
              "      <td>Subject: our pro - forma invoice attached\\r\\nd...</td>\n",
              "      <td>1</td>\n",
              "    </tr>\n",
              "    <tr>\n",
              "      <th>5167</th>\n",
              "      <td>spam</td>\n",
              "      <td>Subject: str _ rndlen ( 2 - 4 ) } { extra _ ti...</td>\n",
              "      <td>1</td>\n",
              "    </tr>\n",
              "    <tr>\n",
              "      <th>5168</th>\n",
              "      <td>spam</td>\n",
              "      <td>Subject: check me out !\\r\\n61 bb\\r\\nhey derm\\r...</td>\n",
              "      <td>1</td>\n",
              "    </tr>\n",
              "    <tr>\n",
              "      <th>5169</th>\n",
              "      <td>spam</td>\n",
              "      <td>Subject: hot jobs\\r\\nglobal marketing specialt...</td>\n",
              "      <td>1</td>\n",
              "    </tr>\n",
              "    <tr>\n",
              "      <th>5170</th>\n",
              "      <td>spam</td>\n",
              "      <td>Subject: save up to 89 % on ink + no shipping ...</td>\n",
              "      <td>1</td>\n",
              "    </tr>\n",
              "  </tbody>\n",
              "</table>\n",
              "<p>5171 rows × 3 columns</p>\n",
              "</div>"
            ],
            "text/plain": [
              "     label                                               text  label_num\n",
              "0      ham          Subject: christmas tree farm pictures\\r\\n          0\n",
              "1      ham  Subject: vastar resources , inc .\\r\\ngary , pr...          0\n",
              "2      ham  Subject: calpine daily gas nomination\\r\\n- cal...          0\n",
              "3      ham  Subject: re : issue\\r\\nfyi - see note below - ...          0\n",
              "4      ham  Subject: meter 7268 nov allocation\\r\\nfyi .\\r\\...          0\n",
              "...    ...                                                ...        ...\n",
              "5166  spam  Subject: our pro - forma invoice attached\\r\\nd...          1\n",
              "5167  spam  Subject: str _ rndlen ( 2 - 4 ) } { extra _ ti...          1\n",
              "5168  spam  Subject: check me out !\\r\\n61 bb\\r\\nhey derm\\r...          1\n",
              "5169  spam  Subject: hot jobs\\r\\nglobal marketing specialt...          1\n",
              "5170  spam  Subject: save up to 89 % on ink + no shipping ...          1\n",
              "\n",
              "[5171 rows x 3 columns]"
            ]
          },
          "metadata": {},
          "execution_count": 5
        }
      ]
    },
    {
      "cell_type": "code",
      "metadata": {
        "colab": {
          "base_uri": "https://localhost:8080/"
        },
        "id": "0gzFNnjxj45j",
        "outputId": "7cb515ee-14d4-4c89-b0ff-3597cb58d3e4"
      },
      "source": [
        "print(\"Size : \",spam_df_sorted.shape)\n",
        "spam_df_sorted.info()"
      ],
      "execution_count": null,
      "outputs": [
        {
          "output_type": "stream",
          "name": "stdout",
          "text": [
            "Size :  (5171, 3)\n",
            "<class 'pandas.core.frame.DataFrame'>\n",
            "Int64Index: 5171 entries, 0 to 5170\n",
            "Data columns (total 3 columns):\n",
            " #   Column     Non-Null Count  Dtype \n",
            "---  ------     --------------  ----- \n",
            " 0   label      5171 non-null   object\n",
            " 1   text       5171 non-null   object\n",
            " 2   label_num  5171 non-null   int64 \n",
            "dtypes: int64(1), object(2)\n",
            "memory usage: 161.6+ KB\n"
          ]
        }
      ]
    },
    {
      "cell_type": "markdown",
      "metadata": {
        "id": "f77wjPXUj45k"
      },
      "source": [
        "### Exploratory Data Analysis (EDA)"
      ]
    },
    {
      "cell_type": "code",
      "metadata": {
        "colab": {
          "base_uri": "https://localhost:8080/",
          "height": 297
        },
        "id": "-VZAihe2j45l",
        "outputId": "8fb94981-2607-4ae2-dd20-e83f8c877f91"
      },
      "source": [
        "spam_df_sorted.describe()"
      ],
      "execution_count": null,
      "outputs": [
        {
          "output_type": "execute_result",
          "data": {
            "text/html": [
              "<div>\n",
              "<style scoped>\n",
              "    .dataframe tbody tr th:only-of-type {\n",
              "        vertical-align: middle;\n",
              "    }\n",
              "\n",
              "    .dataframe tbody tr th {\n",
              "        vertical-align: top;\n",
              "    }\n",
              "\n",
              "    .dataframe thead th {\n",
              "        text-align: right;\n",
              "    }\n",
              "</style>\n",
              "<table border=\"1\" class=\"dataframe\">\n",
              "  <thead>\n",
              "    <tr style=\"text-align: right;\">\n",
              "      <th></th>\n",
              "      <th>label_num</th>\n",
              "    </tr>\n",
              "  </thead>\n",
              "  <tbody>\n",
              "    <tr>\n",
              "      <th>count</th>\n",
              "      <td>5171.000000</td>\n",
              "    </tr>\n",
              "    <tr>\n",
              "      <th>mean</th>\n",
              "      <td>0.289886</td>\n",
              "    </tr>\n",
              "    <tr>\n",
              "      <th>std</th>\n",
              "      <td>0.453753</td>\n",
              "    </tr>\n",
              "    <tr>\n",
              "      <th>min</th>\n",
              "      <td>0.000000</td>\n",
              "    </tr>\n",
              "    <tr>\n",
              "      <th>25%</th>\n",
              "      <td>0.000000</td>\n",
              "    </tr>\n",
              "    <tr>\n",
              "      <th>50%</th>\n",
              "      <td>0.000000</td>\n",
              "    </tr>\n",
              "    <tr>\n",
              "      <th>75%</th>\n",
              "      <td>1.000000</td>\n",
              "    </tr>\n",
              "    <tr>\n",
              "      <th>max</th>\n",
              "      <td>1.000000</td>\n",
              "    </tr>\n",
              "  </tbody>\n",
              "</table>\n",
              "</div>"
            ],
            "text/plain": [
              "         label_num\n",
              "count  5171.000000\n",
              "mean      0.289886\n",
              "std       0.453753\n",
              "min       0.000000\n",
              "25%       0.000000\n",
              "50%       0.000000\n",
              "75%       1.000000\n",
              "max       1.000000"
            ]
          },
          "metadata": {},
          "execution_count": 7
        }
      ]
    },
    {
      "cell_type": "code",
      "metadata": {
        "colab": {
          "base_uri": "https://localhost:8080/"
        },
        "id": "NjYBmG7aj45m",
        "outputId": "336b42e9-b482-4bc9-ff97-046aad8b619f"
      },
      "source": [
        "spam_df_sorted.isnull().sum() #no null values"
      ],
      "execution_count": null,
      "outputs": [
        {
          "output_type": "execute_result",
          "data": {
            "text/plain": [
              "label        0\n",
              "text         0\n",
              "label_num    0\n",
              "dtype: int64"
            ]
          },
          "metadata": {},
          "execution_count": 8
        }
      ]
    },
    {
      "cell_type": "code",
      "metadata": {
        "colab": {
          "base_uri": "https://localhost:8080/"
        },
        "id": "cZSXRRNvj45o",
        "outputId": "2dc779f6-6ea1-4b3e-dd98-a64b86b21d2e"
      },
      "source": [
        "# Checking Numerical Columns\n",
        "spam_df_sorted.columns[(spam_df_sorted.dtypes !='object').values].tolist() "
      ],
      "execution_count": null,
      "outputs": [
        {
          "output_type": "execute_result",
          "data": {
            "text/plain": [
              "['label_num']"
            ]
          },
          "metadata": {},
          "execution_count": 9
        }
      ]
    },
    {
      "cell_type": "code",
      "metadata": {
        "colab": {
          "base_uri": "https://localhost:8080/"
        },
        "id": "0H3O0vwOj45p",
        "outputId": "ebd792a5-5d30-45a3-c374-8928060d7a86"
      },
      "source": [
        "print(\"Total items shape: \", spam_df_sorted.shape)\n",
        "print(\"Unique items shape: \",spam_df_sorted.drop_duplicates().shape)"
      ],
      "execution_count": null,
      "outputs": [
        {
          "output_type": "stream",
          "name": "stdout",
          "text": [
            "Total items shape:  (5171, 3)\n",
            "Unique items shape:  (4993, 3)\n"
          ]
        }
      ]
    },
    {
      "cell_type": "code",
      "metadata": {
        "colab": {
          "base_uri": "https://localhost:8080/",
          "height": 264
        },
        "id": "UKU8KVZEj45q",
        "outputId": "1ac34229-1536-46a1-dd09-2240f1d6a948"
      },
      "source": [
        "# This graph shows that, majority of the emails are hams; Data imabalanced\n",
        "plt.pie(spam_df_sorted['label'].value_counts(), labels=['Ham', 'Spam'], autopct='%1.2f%%')\n",
        "plt.title('% of Spam and ham e-mails')\n",
        "plt.show()"
      ],
      "execution_count": null,
      "outputs": [
        {
          "output_type": "display_data",
          "data": {
            "image/png": "[encoded data removed]",
            "text/plain": [
              "<Figure size 432x288 with 1 Axes>"
            ]
          },
          "metadata": {}
        }
      ]
    },
    {
      "cell_type": "code",
      "metadata": {
        "colab": {
          "base_uri": "https://localhost:8080/",
          "height": 351
        },
        "id": "b3qAWlOkj45r",
        "outputId": "1b7dae36-3fb8-4cdc-9676-0a7fac684265"
      },
      "source": [
        "#Actual figure \n",
        "sns.countplot(spam_df_sorted.label_num)"
      ],
      "execution_count": null,
      "outputs": [
        {
          "output_type": "stream",
          "name": "stderr",
          "text": [
            "/usr/local/lib/python3.7/dist-packages/seaborn/_decorators.py:43: FutureWarning: Pass the following variable as a keyword arg: x. From version 0.12, the only valid positional argument will be `data`, and passing other arguments without an explicit keyword will result in an error or misinterpretation.\n",
            "  FutureWarning\n"
          ]
        },
        {
          "output_type": "execute_result",
          "data": {
            "text/plain": [
              "<matplotlib.axes._subplots.AxesSubplot at 0x7f1c039f00d0>"
            ]
          },
          "metadata": {},
          "execution_count": 12
        },
        {
          "output_type": "display_data",
          "data": {
            "image/png": "[encoded data removed]",
            "text/plain": [
              "<Figure size 432x288 with 1 Axes>"
            ]
          },
          "metadata": {
            "needs_background": "light"
          }
        }
      ]
    },
    {
      "cell_type": "code",
      "metadata": {
        "id": "FcUkXVCoj45r"
      },
      "source": [
        "repeated_text = []\n",
        "repeated_occurence = []\n",
        "for content, occurence in spam_df_sorted.text.value_counts().items():\n",
        "    repeated_text.append(content)\n",
        "    repeated_occurence.append(occurence)"
      ],
      "execution_count": null,
      "outputs": []
    },
    {
      "cell_type": "code",
      "metadata": {
        "id": "xKo87YdBj45s"
      },
      "source": [
        "text_occurence = pd.DataFrame({\"Text\": repeated_text, \"Frequency\": repeated_occurence})\n",
        "# text_occurence_sort = text_occurence.sort_values('Frequency')\n",
        "# text_occurence_sort"
      ],
      "execution_count": null,
      "outputs": []
    },
    {
      "cell_type": "code",
      "metadata": {
        "colab": {
          "base_uri": "https://localhost:8080/"
        },
        "id": "MHavTCEbj45s",
        "outputId": "56f6c90c-5a06-444e-b4f5-249c2475e001"
      },
      "source": [
        "#most repeated emails out of the unique texts\n",
        "print(r\"most repeated text: {} its label :{}\".format(text_occurence.iloc[text_occurence.Frequency.argmax()], spam_df_sorted.iloc[text_occurence.Frequency.argmax()]['label']))"
      ],
      "execution_count": null,
      "outputs": [
        {
          "output_type": "stream",
          "name": "stdout",
          "text": [
            "most repeated text: Text         Subject: calpine daily gas nomination\\r\\n>\\r\\n...\n",
            "Frequency                                                   20\n",
            "Name: 0, dtype: object its label :ham\n"
          ]
        }
      ]
    },
    {
      "cell_type": "markdown",
      "metadata": {
        "id": "E_qQxhf1j45s"
      },
      "source": [
        "### Clean Dataset"
      ]
    },
    {
      "cell_type": "code",
      "metadata": {
        "id": "1dwA9qdNj45t"
      },
      "source": [
        "#The emails contain special characters other than alphabets, this migh be a problem in the later \n",
        "from nltk.tokenize import RegexpTokenizer\n",
        "def clean_text(text, reg = RegexpTokenizer(r'[a-z]+')):\n",
        "    text = text.lower()\n",
        "    tokens = reg.tokenize(text)\n",
        "    return \" \".join(tokens)"
      ],
      "execution_count": null,
      "outputs": []
    },
    {
      "cell_type": "code",
      "metadata": {
        "id": "sGU3QkUkj45t"
      },
      "source": [
        "spam_df_sorted['text_clean'] = spam_df_sorted['text'].apply(clean_text)"
      ],
      "execution_count": null,
      "outputs": []
    },
    {
      "cell_type": "code",
      "metadata": {
        "colab": {
          "base_uri": "https://localhost:8080/",
          "height": 419
        },
        "id": "uXxfwhz2j45u",
        "outputId": "ae755873-7258-441d-917f-ee253a8cde0e"
      },
      "source": [
        "spam_df_sorted"
      ],
      "execution_count": null,
      "outputs": [
        {
          "output_type": "execute_result",
          "data": {
            "text/html": [
              "<div>\n",
              "<style scoped>\n",
              "    .dataframe tbody tr th:only-of-type {\n",
              "        vertical-align: middle;\n",
              "    }\n",
              "\n",
              "    .dataframe tbody tr th {\n",
              "        vertical-align: top;\n",
              "    }\n",
              "\n",
              "    .dataframe thead th {\n",
              "        text-align: right;\n",
              "    }\n",
              "</style>\n",
              "<table border=\"1\" class=\"dataframe\">\n",
              "  <thead>\n",
              "    <tr style=\"text-align: right;\">\n",
              "      <th></th>\n",
              "      <th>label</th>\n",
              "      <th>text</th>\n",
              "      <th>label_num</th>\n",
              "      <th>text_clean</th>\n",
              "    </tr>\n",
              "  </thead>\n",
              "  <tbody>\n",
              "    <tr>\n",
              "      <th>0</th>\n",
              "      <td>ham</td>\n",
              "      <td>Subject: christmas tree farm pictures\\r\\n</td>\n",
              "      <td>0</td>\n",
              "      <td>subject christmas tree farm pictures</td>\n",
              "    </tr>\n",
              "    <tr>\n",
              "      <th>1</th>\n",
              "      <td>ham</td>\n",
              "      <td>Subject: vastar resources , inc .\\r\\ngary , pr...</td>\n",
              "      <td>0</td>\n",
              "      <td>subject vastar resources inc gary production f...</td>\n",
              "    </tr>\n",
              "    <tr>\n",
              "      <th>2</th>\n",
              "      <td>ham</td>\n",
              "      <td>Subject: calpine daily gas nomination\\r\\n- cal...</td>\n",
              "      <td>0</td>\n",
              "      <td>subject calpine daily gas nomination calpine d...</td>\n",
              "    </tr>\n",
              "    <tr>\n",
              "      <th>3</th>\n",
              "      <td>ham</td>\n",
              "      <td>Subject: re : issue\\r\\nfyi - see note below - ...</td>\n",
              "      <td>0</td>\n",
              "      <td>subject re issue fyi see note below already do...</td>\n",
              "    </tr>\n",
              "    <tr>\n",
              "      <th>4</th>\n",
              "      <td>ham</td>\n",
              "      <td>Subject: meter 7268 nov allocation\\r\\nfyi .\\r\\...</td>\n",
              "      <td>0</td>\n",
              "      <td>subject meter nov allocation fyi forwarded by ...</td>\n",
              "    </tr>\n",
              "    <tr>\n",
              "      <th>...</th>\n",
              "      <td>...</td>\n",
              "      <td>...</td>\n",
              "      <td>...</td>\n",
              "      <td>...</td>\n",
              "    </tr>\n",
              "    <tr>\n",
              "      <th>5166</th>\n",
              "      <td>spam</td>\n",
              "      <td>Subject: our pro - forma invoice attached\\r\\nd...</td>\n",
              "      <td>1</td>\n",
              "      <td>subject our pro forma invoice attached divide ...</td>\n",
              "    </tr>\n",
              "    <tr>\n",
              "      <th>5167</th>\n",
              "      <td>spam</td>\n",
              "      <td>Subject: str _ rndlen ( 2 - 4 ) } { extra _ ti...</td>\n",
              "      <td>1</td>\n",
              "      <td>subject str rndlen extra time word bodyhtml</td>\n",
              "    </tr>\n",
              "    <tr>\n",
              "      <th>5168</th>\n",
              "      <td>spam</td>\n",
              "      <td>Subject: check me out !\\r\\n61 bb\\r\\nhey derm\\r...</td>\n",
              "      <td>1</td>\n",
              "      <td>subject check me out bb hey derm bbbbb check o...</td>\n",
              "    </tr>\n",
              "    <tr>\n",
              "      <th>5169</th>\n",
              "      <td>spam</td>\n",
              "      <td>Subject: hot jobs\\r\\nglobal marketing specialt...</td>\n",
              "      <td>1</td>\n",
              "      <td>subject hot jobs global marketing specialties ...</td>\n",
              "    </tr>\n",
              "    <tr>\n",
              "      <th>5170</th>\n",
              "      <td>spam</td>\n",
              "      <td>Subject: save up to 89 % on ink + no shipping ...</td>\n",
              "      <td>1</td>\n",
              "      <td>subject save up to on ink no shipping cost sav...</td>\n",
              "    </tr>\n",
              "  </tbody>\n",
              "</table>\n",
              "<p>5171 rows × 4 columns</p>\n",
              "</div>"
            ],
            "text/plain": [
              "     label  ...                                         text_clean\n",
              "0      ham  ...               subject christmas tree farm pictures\n",
              "1      ham  ...  subject vastar resources inc gary production f...\n",
              "2      ham  ...  subject calpine daily gas nomination calpine d...\n",
              "3      ham  ...  subject re issue fyi see note below already do...\n",
              "4      ham  ...  subject meter nov allocation fyi forwarded by ...\n",
              "...    ...  ...                                                ...\n",
              "5166  spam  ...  subject our pro forma invoice attached divide ...\n",
              "5167  spam  ...        subject str rndlen extra time word bodyhtml\n",
              "5168  spam  ...  subject check me out bb hey derm bbbbb check o...\n",
              "5169  spam  ...  subject hot jobs global marketing specialties ...\n",
              "5170  spam  ...  subject save up to on ink no shipping cost sav...\n",
              "\n",
              "[5171 rows x 4 columns]"
            ]
          },
          "metadata": {},
          "execution_count": 18
        }
      ]
    },
    {
      "cell_type": "code",
      "metadata": {
        "colab": {
          "base_uri": "https://localhost:8080/",
          "height": 419
        },
        "id": "c8HM6UOrj45u",
        "outputId": "620573f9-cf97-47fc-8169-dcf124d22578"
      },
      "source": [
        "#drop 'text' and 'label' columns ,and duplicate rows after that \n",
        "spam_clean_df = spam_df_sorted.drop(['text','label'], axis=1)\n",
        "spam_clean_final_df = spam_clean_df.drop_duplicates()\n",
        "spam_clean_final_df"
      ],
      "execution_count": null,
      "outputs": [
        {
          "output_type": "execute_result",
          "data": {
            "text/html": [
              "<div>\n",
              "<style scoped>\n",
              "    .dataframe tbody tr th:only-of-type {\n",
              "        vertical-align: middle;\n",
              "    }\n",
              "\n",
              "    .dataframe tbody tr th {\n",
              "        vertical-align: top;\n",
              "    }\n",
              "\n",
              "    .dataframe thead th {\n",
              "        text-align: right;\n",
              "    }\n",
              "</style>\n",
              "<table border=\"1\" class=\"dataframe\">\n",
              "  <thead>\n",
              "    <tr style=\"text-align: right;\">\n",
              "      <th></th>\n",
              "      <th>label_num</th>\n",
              "      <th>text_clean</th>\n",
              "    </tr>\n",
              "  </thead>\n",
              "  <tbody>\n",
              "    <tr>\n",
              "      <th>0</th>\n",
              "      <td>0</td>\n",
              "      <td>subject christmas tree farm pictures</td>\n",
              "    </tr>\n",
              "    <tr>\n",
              "      <th>1</th>\n",
              "      <td>0</td>\n",
              "      <td>subject vastar resources inc gary production f...</td>\n",
              "    </tr>\n",
              "    <tr>\n",
              "      <th>2</th>\n",
              "      <td>0</td>\n",
              "      <td>subject calpine daily gas nomination calpine d...</td>\n",
              "    </tr>\n",
              "    <tr>\n",
              "      <th>3</th>\n",
              "      <td>0</td>\n",
              "      <td>subject re issue fyi see note below already do...</td>\n",
              "    </tr>\n",
              "    <tr>\n",
              "      <th>4</th>\n",
              "      <td>0</td>\n",
              "      <td>subject meter nov allocation fyi forwarded by ...</td>\n",
              "    </tr>\n",
              "    <tr>\n",
              "      <th>...</th>\n",
              "      <td>...</td>\n",
              "      <td>...</td>\n",
              "    </tr>\n",
              "    <tr>\n",
              "      <th>5166</th>\n",
              "      <td>1</td>\n",
              "      <td>subject our pro forma invoice attached divide ...</td>\n",
              "    </tr>\n",
              "    <tr>\n",
              "      <th>5167</th>\n",
              "      <td>1</td>\n",
              "      <td>subject str rndlen extra time word bodyhtml</td>\n",
              "    </tr>\n",
              "    <tr>\n",
              "      <th>5168</th>\n",
              "      <td>1</td>\n",
              "      <td>subject check me out bb hey derm bbbbb check o...</td>\n",
              "    </tr>\n",
              "    <tr>\n",
              "      <th>5169</th>\n",
              "      <td>1</td>\n",
              "      <td>subject hot jobs global marketing specialties ...</td>\n",
              "    </tr>\n",
              "    <tr>\n",
              "      <th>5170</th>\n",
              "      <td>1</td>\n",
              "      <td>subject save up to on ink no shipping cost sav...</td>\n",
              "    </tr>\n",
              "  </tbody>\n",
              "</table>\n",
              "<p>4636 rows × 2 columns</p>\n",
              "</div>"
            ],
            "text/plain": [
              "      label_num                                         text_clean\n",
              "0             0               subject christmas tree farm pictures\n",
              "1             0  subject vastar resources inc gary production f...\n",
              "2             0  subject calpine daily gas nomination calpine d...\n",
              "3             0  subject re issue fyi see note below already do...\n",
              "4             0  subject meter nov allocation fyi forwarded by ...\n",
              "...         ...                                                ...\n",
              "5166          1  subject our pro forma invoice attached divide ...\n",
              "5167          1        subject str rndlen extra time word bodyhtml\n",
              "5168          1  subject check me out bb hey derm bbbbb check o...\n",
              "5169          1  subject hot jobs global marketing specialties ...\n",
              "5170          1  subject save up to on ink no shipping cost sav...\n",
              "\n",
              "[4636 rows x 2 columns]"
            ]
          },
          "metadata": {},
          "execution_count": 19
        }
      ]
    },
    {
      "cell_type": "code",
      "metadata": {
        "colab": {
          "base_uri": "https://localhost:8080/"
        },
        "id": "OmRLgPO8j45u",
        "outputId": "15c3a88c-e512-4cf4-e472-77775c024a59"
      },
      "source": [
        "print(r\"We have {} unique data points after cleaning!\".format(spam_clean_final_df.label_num.value_counts().sum()))"
      ],
      "execution_count": null,
      "outputs": [
        {
          "output_type": "stream",
          "name": "stdout",
          "text": [
            "We have 4636 unique data points after cleaning!\n"
          ]
        }
      ]
    },
    {
      "cell_type": "code",
      "metadata": {
        "colab": {
          "base_uri": "https://localhost:8080/"
        },
        "id": "gV2eS0h1j45v",
        "outputId": "dddd4fda-e0a6-4387-c9e6-c9f90980965e"
      },
      "source": [
        "#The imbalance is still there after removing duplicataes \n",
        "spam_clean_final_df.label_num.value_counts()"
      ],
      "execution_count": null,
      "outputs": [
        {
          "output_type": "execute_result",
          "data": {
            "text/plain": [
              "0    3176\n",
              "1    1460\n",
              "Name: label_num, dtype: int64"
            ]
          },
          "metadata": {},
          "execution_count": 21
        }
      ]
    },
    {
      "cell_type": "code",
      "metadata": {
        "id": "Ty5Ix3krj45w"
      },
      "source": [
        "#CountVectorizer to encode the text mail, and using stop_words to reduce the features sowhat !\n",
        "from sklearn.feature_extraction.text import CountVectorizer\n",
        "\"\"\"Stopwords are the words in any language which does not add much meaning to a sentence.\n",
        "   They can safely be ignored without sacrificing the meaning of the sentence.\n",
        "   And when building the vocabulary ignore terms that have a document\n",
        "  frequency strictly higher than the given threshold 25 using min_df\n",
        "\"\"\"\n",
        "vectorizer = CountVectorizer(stop_words='english', min_df=25)\n",
        "X = vectorizer.fit_transform(spam_clean_final_df['text_clean'])\n",
        "#split target and feature\n",
        "X = X.toarray()\n",
        "y = spam_clean_final_df.label_num.values"
      ],
      "execution_count": null,
      "outputs": []
    },
    {
      "cell_type": "code",
      "metadata": {
        "colab": {
          "base_uri": "https://localhost:8080/"
        },
        "id": "u1jryDZ1j45x",
        "outputId": "d398ac73-d6d8-450a-a1bf-1ba8afda7056"
      },
      "source": [
        "X.shape, y.shape #we have 45435 features for 4636 data items "
      ],
      "execution_count": null,
      "outputs": [
        {
          "output_type": "execute_result",
          "data": {
            "text/plain": [
              "((4636, 2034), (4636,))"
            ]
          },
          "metadata": {},
          "execution_count": 23
        }
      ]
    },
    {
      "cell_type": "code",
      "metadata": {
        "id": "RD8E5LrFD-Ci"
      },
      "source": [
        "#Visualize using violn plot \n"
      ],
      "execution_count": null,
      "outputs": []
    },
    {
      "cell_type": "code",
      "metadata": {
        "colab": {
          "base_uri": "https://localhost:8080/",
          "height": 253
        },
        "id": "nruCMnWKj45x",
        "outputId": "873895f6-1347-436c-9ae6-b55492f75f4c"
      },
      "source": [
        "#to visualize the entire features in a tabel foramat\n",
        "features_df = pd.DataFrame(data=X, columns = vectorizer.get_feature_names())\n",
        "features_df.head()"
      ],
      "execution_count": null,
      "outputs": [
        {
          "output_type": "execute_result",
          "data": {
            "text/html": [
              "<div>\n",
              "<style scoped>\n",
              "    .dataframe tbody tr th:only-of-type {\n",
              "        vertical-align: middle;\n",
              "    }\n",
              "\n",
              "    .dataframe tbody tr th {\n",
              "        vertical-align: top;\n",
              "    }\n",
              "\n",
              "    .dataframe thead th {\n",
              "        text-align: right;\n",
              "    }\n",
              "</style>\n",
              "<table border=\"1\" class=\"dataframe\">\n",
              "  <thead>\n",
              "    <tr style=\"text-align: right;\">\n",
              "      <th></th>\n",
              "      <th>ability</th>\n",
              "      <th>able</th>\n",
              "      <th>accept</th>\n",
              "      <th>acceptance</th>\n",
              "      <th>access</th>\n",
              "      <th>according</th>\n",
              "      <th>accordingly</th>\n",
              "      <th>account</th>\n",
              "      <th>accountant</th>\n",
              "      <th>accounting</th>\n",
              "      <th>accounts</th>\n",
              "      <th>accuracy</th>\n",
              "      <th>accurate</th>\n",
              "      <th>achieve</th>\n",
              "      <th>acquisition</th>\n",
              "      <th>act</th>\n",
              "      <th>action</th>\n",
              "      <th>actions</th>\n",
              "      <th>active</th>\n",
              "      <th>activities</th>\n",
              "      <th>activity</th>\n",
              "      <th>acton</th>\n",
              "      <th>acts</th>\n",
              "      <th>actual</th>\n",
              "      <th>actually</th>\n",
              "      <th>actuals</th>\n",
              "      <th>ad</th>\n",
              "      <th>add</th>\n",
              "      <th>added</th>\n",
              "      <th>addition</th>\n",
              "      <th>additional</th>\n",
              "      <th>additionally</th>\n",
              "      <th>address</th>\n",
              "      <th>addressed</th>\n",
              "      <th>addresses</th>\n",
              "      <th>adjust</th>\n",
              "      <th>adjusted</th>\n",
              "      <th>adjustments</th>\n",
              "      <th>administration</th>\n",
              "      <th>adobe</th>\n",
              "      <th>...</th>\n",
              "      <th>williams</th>\n",
              "      <th>wilson</th>\n",
              "      <th>window</th>\n",
              "      <th>windows</th>\n",
              "      <th>winfree</th>\n",
              "      <th>wish</th>\n",
              "      <th>withers</th>\n",
              "      <th>woman</th>\n",
              "      <th>women</th>\n",
              "      <th>won</th>\n",
              "      <th>word</th>\n",
              "      <th>words</th>\n",
              "      <th>work</th>\n",
              "      <th>worked</th>\n",
              "      <th>working</th>\n",
              "      <th>works</th>\n",
              "      <th>worksheet</th>\n",
              "      <th>world</th>\n",
              "      <th>worldwide</th>\n",
              "      <th>worth</th>\n",
              "      <th>write</th>\n",
              "      <th>written</th>\n",
              "      <th>wrong</th>\n",
              "      <th>www</th>\n",
              "      <th>wynne</th>\n",
              "      <th>xanax</th>\n",
              "      <th>xls</th>\n",
              "      <th>xp</th>\n",
              "      <th>yahoo</th>\n",
              "      <th>year</th>\n",
              "      <th>years</th>\n",
              "      <th>yes</th>\n",
              "      <th>yesterday</th>\n",
              "      <th>young</th>\n",
              "      <th>yvette</th>\n",
              "      <th>zero</th>\n",
              "      <th>zeroed</th>\n",
              "      <th>zivley</th>\n",
              "      <th>zone</th>\n",
              "      <th>zonedubai</th>\n",
              "    </tr>\n",
              "  </thead>\n",
              "  <tbody>\n",
              "    <tr>\n",
              "      <th>0</th>\n",
              "      <td>0</td>\n",
              "      <td>0</td>\n",
              "      <td>0</td>\n",
              "      <td>0</td>\n",
              "      <td>0</td>\n",
              "      <td>0</td>\n",
              "      <td>0</td>\n",
              "      <td>0</td>\n",
              "      <td>0</td>\n",
              "      <td>0</td>\n",
              "      <td>0</td>\n",
              "      <td>0</td>\n",
              "      <td>0</td>\n",
              "      <td>0</td>\n",
              "      <td>0</td>\n",
              "      <td>0</td>\n",
              "      <td>0</td>\n",
              "      <td>0</td>\n",
              "      <td>0</td>\n",
              "      <td>0</td>\n",
              "      <td>0</td>\n",
              "      <td>0</td>\n",
              "      <td>0</td>\n",
              "      <td>0</td>\n",
              "      <td>0</td>\n",
              "      <td>0</td>\n",
              "      <td>0</td>\n",
              "      <td>0</td>\n",
              "      <td>0</td>\n",
              "      <td>0</td>\n",
              "      <td>0</td>\n",
              "      <td>0</td>\n",
              "      <td>0</td>\n",
              "      <td>0</td>\n",
              "      <td>0</td>\n",
              "      <td>0</td>\n",
              "      <td>0</td>\n",
              "      <td>0</td>\n",
              "      <td>0</td>\n",
              "      <td>0</td>\n",
              "      <td>...</td>\n",
              "      <td>0</td>\n",
              "      <td>0</td>\n",
              "      <td>0</td>\n",
              "      <td>0</td>\n",
              "      <td>0</td>\n",
              "      <td>0</td>\n",
              "      <td>0</td>\n",
              "      <td>0</td>\n",
              "      <td>0</td>\n",
              "      <td>0</td>\n",
              "      <td>0</td>\n",
              "      <td>0</td>\n",
              "      <td>0</td>\n",
              "      <td>0</td>\n",
              "      <td>0</td>\n",
              "      <td>0</td>\n",
              "      <td>0</td>\n",
              "      <td>0</td>\n",
              "      <td>0</td>\n",
              "      <td>0</td>\n",
              "      <td>0</td>\n",
              "      <td>0</td>\n",
              "      <td>0</td>\n",
              "      <td>0</td>\n",
              "      <td>0</td>\n",
              "      <td>0</td>\n",
              "      <td>0</td>\n",
              "      <td>0</td>\n",
              "      <td>0</td>\n",
              "      <td>0</td>\n",
              "      <td>0</td>\n",
              "      <td>0</td>\n",
              "      <td>0</td>\n",
              "      <td>0</td>\n",
              "      <td>0</td>\n",
              "      <td>0</td>\n",
              "      <td>0</td>\n",
              "      <td>0</td>\n",
              "      <td>0</td>\n",
              "      <td>0</td>\n",
              "    </tr>\n",
              "    <tr>\n",
              "      <th>1</th>\n",
              "      <td>0</td>\n",
              "      <td>0</td>\n",
              "      <td>0</td>\n",
              "      <td>0</td>\n",
              "      <td>0</td>\n",
              "      <td>0</td>\n",
              "      <td>0</td>\n",
              "      <td>0</td>\n",
              "      <td>0</td>\n",
              "      <td>0</td>\n",
              "      <td>0</td>\n",
              "      <td>0</td>\n",
              "      <td>0</td>\n",
              "      <td>0</td>\n",
              "      <td>0</td>\n",
              "      <td>0</td>\n",
              "      <td>0</td>\n",
              "      <td>0</td>\n",
              "      <td>0</td>\n",
              "      <td>0</td>\n",
              "      <td>0</td>\n",
              "      <td>0</td>\n",
              "      <td>0</td>\n",
              "      <td>0</td>\n",
              "      <td>0</td>\n",
              "      <td>0</td>\n",
              "      <td>0</td>\n",
              "      <td>0</td>\n",
              "      <td>0</td>\n",
              "      <td>0</td>\n",
              "      <td>0</td>\n",
              "      <td>0</td>\n",
              "      <td>0</td>\n",
              "      <td>0</td>\n",
              "      <td>0</td>\n",
              "      <td>0</td>\n",
              "      <td>0</td>\n",
              "      <td>0</td>\n",
              "      <td>0</td>\n",
              "      <td>0</td>\n",
              "      <td>...</td>\n",
              "      <td>0</td>\n",
              "      <td>0</td>\n",
              "      <td>0</td>\n",
              "      <td>0</td>\n",
              "      <td>0</td>\n",
              "      <td>0</td>\n",
              "      <td>0</td>\n",
              "      <td>0</td>\n",
              "      <td>0</td>\n",
              "      <td>0</td>\n",
              "      <td>0</td>\n",
              "      <td>0</td>\n",
              "      <td>0</td>\n",
              "      <td>0</td>\n",
              "      <td>0</td>\n",
              "      <td>0</td>\n",
              "      <td>0</td>\n",
              "      <td>0</td>\n",
              "      <td>0</td>\n",
              "      <td>0</td>\n",
              "      <td>0</td>\n",
              "      <td>0</td>\n",
              "      <td>0</td>\n",
              "      <td>0</td>\n",
              "      <td>0</td>\n",
              "      <td>0</td>\n",
              "      <td>0</td>\n",
              "      <td>0</td>\n",
              "      <td>0</td>\n",
              "      <td>0</td>\n",
              "      <td>0</td>\n",
              "      <td>0</td>\n",
              "      <td>0</td>\n",
              "      <td>0</td>\n",
              "      <td>0</td>\n",
              "      <td>0</td>\n",
              "      <td>0</td>\n",
              "      <td>0</td>\n",
              "      <td>0</td>\n",
              "      <td>0</td>\n",
              "    </tr>\n",
              "    <tr>\n",
              "      <th>2</th>\n",
              "      <td>0</td>\n",
              "      <td>0</td>\n",
              "      <td>0</td>\n",
              "      <td>0</td>\n",
              "      <td>0</td>\n",
              "      <td>0</td>\n",
              "      <td>0</td>\n",
              "      <td>0</td>\n",
              "      <td>0</td>\n",
              "      <td>0</td>\n",
              "      <td>0</td>\n",
              "      <td>0</td>\n",
              "      <td>0</td>\n",
              "      <td>0</td>\n",
              "      <td>0</td>\n",
              "      <td>0</td>\n",
              "      <td>0</td>\n",
              "      <td>0</td>\n",
              "      <td>0</td>\n",
              "      <td>0</td>\n",
              "      <td>0</td>\n",
              "      <td>0</td>\n",
              "      <td>0</td>\n",
              "      <td>0</td>\n",
              "      <td>0</td>\n",
              "      <td>0</td>\n",
              "      <td>0</td>\n",
              "      <td>0</td>\n",
              "      <td>0</td>\n",
              "      <td>0</td>\n",
              "      <td>0</td>\n",
              "      <td>0</td>\n",
              "      <td>0</td>\n",
              "      <td>0</td>\n",
              "      <td>0</td>\n",
              "      <td>0</td>\n",
              "      <td>0</td>\n",
              "      <td>0</td>\n",
              "      <td>0</td>\n",
              "      <td>0</td>\n",
              "      <td>...</td>\n",
              "      <td>0</td>\n",
              "      <td>0</td>\n",
              "      <td>0</td>\n",
              "      <td>0</td>\n",
              "      <td>0</td>\n",
              "      <td>0</td>\n",
              "      <td>0</td>\n",
              "      <td>0</td>\n",
              "      <td>0</td>\n",
              "      <td>0</td>\n",
              "      <td>0</td>\n",
              "      <td>0</td>\n",
              "      <td>0</td>\n",
              "      <td>0</td>\n",
              "      <td>0</td>\n",
              "      <td>0</td>\n",
              "      <td>0</td>\n",
              "      <td>0</td>\n",
              "      <td>0</td>\n",
              "      <td>0</td>\n",
              "      <td>0</td>\n",
              "      <td>0</td>\n",
              "      <td>0</td>\n",
              "      <td>0</td>\n",
              "      <td>0</td>\n",
              "      <td>0</td>\n",
              "      <td>0</td>\n",
              "      <td>0</td>\n",
              "      <td>0</td>\n",
              "      <td>0</td>\n",
              "      <td>0</td>\n",
              "      <td>0</td>\n",
              "      <td>0</td>\n",
              "      <td>0</td>\n",
              "      <td>0</td>\n",
              "      <td>0</td>\n",
              "      <td>0</td>\n",
              "      <td>0</td>\n",
              "      <td>0</td>\n",
              "      <td>0</td>\n",
              "    </tr>\n",
              "    <tr>\n",
              "      <th>3</th>\n",
              "      <td>0</td>\n",
              "      <td>0</td>\n",
              "      <td>0</td>\n",
              "      <td>0</td>\n",
              "      <td>0</td>\n",
              "      <td>0</td>\n",
              "      <td>0</td>\n",
              "      <td>0</td>\n",
              "      <td>0</td>\n",
              "      <td>1</td>\n",
              "      <td>0</td>\n",
              "      <td>0</td>\n",
              "      <td>0</td>\n",
              "      <td>0</td>\n",
              "      <td>0</td>\n",
              "      <td>0</td>\n",
              "      <td>0</td>\n",
              "      <td>0</td>\n",
              "      <td>0</td>\n",
              "      <td>0</td>\n",
              "      <td>0</td>\n",
              "      <td>0</td>\n",
              "      <td>0</td>\n",
              "      <td>0</td>\n",
              "      <td>0</td>\n",
              "      <td>0</td>\n",
              "      <td>0</td>\n",
              "      <td>0</td>\n",
              "      <td>0</td>\n",
              "      <td>0</td>\n",
              "      <td>0</td>\n",
              "      <td>0</td>\n",
              "      <td>0</td>\n",
              "      <td>0</td>\n",
              "      <td>0</td>\n",
              "      <td>0</td>\n",
              "      <td>0</td>\n",
              "      <td>0</td>\n",
              "      <td>0</td>\n",
              "      <td>0</td>\n",
              "      <td>...</td>\n",
              "      <td>0</td>\n",
              "      <td>0</td>\n",
              "      <td>0</td>\n",
              "      <td>0</td>\n",
              "      <td>0</td>\n",
              "      <td>0</td>\n",
              "      <td>0</td>\n",
              "      <td>0</td>\n",
              "      <td>0</td>\n",
              "      <td>0</td>\n",
              "      <td>0</td>\n",
              "      <td>0</td>\n",
              "      <td>1</td>\n",
              "      <td>0</td>\n",
              "      <td>0</td>\n",
              "      <td>0</td>\n",
              "      <td>0</td>\n",
              "      <td>0</td>\n",
              "      <td>0</td>\n",
              "      <td>0</td>\n",
              "      <td>0</td>\n",
              "      <td>0</td>\n",
              "      <td>0</td>\n",
              "      <td>0</td>\n",
              "      <td>0</td>\n",
              "      <td>0</td>\n",
              "      <td>0</td>\n",
              "      <td>0</td>\n",
              "      <td>0</td>\n",
              "      <td>0</td>\n",
              "      <td>0</td>\n",
              "      <td>0</td>\n",
              "      <td>1</td>\n",
              "      <td>0</td>\n",
              "      <td>0</td>\n",
              "      <td>0</td>\n",
              "      <td>0</td>\n",
              "      <td>0</td>\n",
              "      <td>0</td>\n",
              "      <td>0</td>\n",
              "    </tr>\n",
              "    <tr>\n",
              "      <th>4</th>\n",
              "      <td>0</td>\n",
              "      <td>0</td>\n",
              "      <td>0</td>\n",
              "      <td>0</td>\n",
              "      <td>0</td>\n",
              "      <td>0</td>\n",
              "      <td>0</td>\n",
              "      <td>0</td>\n",
              "      <td>0</td>\n",
              "      <td>0</td>\n",
              "      <td>0</td>\n",
              "      <td>0</td>\n",
              "      <td>0</td>\n",
              "      <td>0</td>\n",
              "      <td>0</td>\n",
              "      <td>0</td>\n",
              "      <td>0</td>\n",
              "      <td>0</td>\n",
              "      <td>0</td>\n",
              "      <td>0</td>\n",
              "      <td>0</td>\n",
              "      <td>0</td>\n",
              "      <td>0</td>\n",
              "      <td>0</td>\n",
              "      <td>0</td>\n",
              "      <td>0</td>\n",
              "      <td>0</td>\n",
              "      <td>0</td>\n",
              "      <td>0</td>\n",
              "      <td>0</td>\n",
              "      <td>0</td>\n",
              "      <td>0</td>\n",
              "      <td>0</td>\n",
              "      <td>0</td>\n",
              "      <td>0</td>\n",
              "      <td>0</td>\n",
              "      <td>0</td>\n",
              "      <td>0</td>\n",
              "      <td>0</td>\n",
              "      <td>0</td>\n",
              "      <td>...</td>\n",
              "      <td>0</td>\n",
              "      <td>0</td>\n",
              "      <td>0</td>\n",
              "      <td>0</td>\n",
              "      <td>0</td>\n",
              "      <td>0</td>\n",
              "      <td>0</td>\n",
              "      <td>0</td>\n",
              "      <td>0</td>\n",
              "      <td>0</td>\n",
              "      <td>0</td>\n",
              "      <td>0</td>\n",
              "      <td>0</td>\n",
              "      <td>0</td>\n",
              "      <td>0</td>\n",
              "      <td>0</td>\n",
              "      <td>0</td>\n",
              "      <td>0</td>\n",
              "      <td>0</td>\n",
              "      <td>0</td>\n",
              "      <td>0</td>\n",
              "      <td>0</td>\n",
              "      <td>0</td>\n",
              "      <td>0</td>\n",
              "      <td>0</td>\n",
              "      <td>0</td>\n",
              "      <td>0</td>\n",
              "      <td>0</td>\n",
              "      <td>0</td>\n",
              "      <td>0</td>\n",
              "      <td>0</td>\n",
              "      <td>0</td>\n",
              "      <td>0</td>\n",
              "      <td>0</td>\n",
              "      <td>0</td>\n",
              "      <td>0</td>\n",
              "      <td>0</td>\n",
              "      <td>0</td>\n",
              "      <td>0</td>\n",
              "      <td>0</td>\n",
              "    </tr>\n",
              "  </tbody>\n",
              "</table>\n",
              "<p>5 rows × 2034 columns</p>\n",
              "</div>"
            ],
            "text/plain": [
              "   ability  able  accept  acceptance  ...  zeroed  zivley  zone  zonedubai\n",
              "0        0     0       0           0  ...       0       0     0          0\n",
              "1        0     0       0           0  ...       0       0     0          0\n",
              "2        0     0       0           0  ...       0       0     0          0\n",
              "3        0     0       0           0  ...       0       0     0          0\n",
              "4        0     0       0           0  ...       0       0     0          0\n",
              "\n",
              "[5 rows x 2034 columns]"
            ]
          },
          "metadata": {},
          "execution_count": 25
        }
      ]
    },
    {
      "cell_type": "markdown",
      "metadata": {
        "id": "NZrDPF-0j45x"
      },
      "source": [
        "### Balancing using SMOTE synthetic minority oversampling technique"
      ]
    },
    {
      "cell_type": "code",
      "metadata": {
        "colab": {
          "base_uri": "https://localhost:8080/"
        },
        "id": "lOb7SeMOj45y",
        "outputId": "00519f4f-8b96-4275-db36-04ee608d1003"
      },
      "source": [
        "# adding samples to minority class using SMOTE\n",
        "from collections import Counter\n",
        "from imblearn.over_sampling import SMOTE\n",
        "print('Original dataset shape after cleaning %s' % Counter(y))\n",
        "oversample = SMOTE(random_state=42)\n",
        "X_res, y_res = oversample.fit_resample(X, y)\n",
        "print('Resampled dataset shape %s' % Counter(y_res))"
      ],
      "execution_count": null,
      "outputs": [
        {
          "output_type": "stream",
          "name": "stderr",
          "text": [
            "/usr/local/lib/python3.7/dist-packages/sklearn/externals/six.py:31: FutureWarning: The module is deprecated in version 0.21 and will be removed in version 0.23 since we've dropped support for Python 2.7. Please rely on the official version of six (https://pypi.org/project/six/).\n",
            "  \"(https://pypi.org/project/six/).\", FutureWarning)\n",
            "/usr/local/lib/python3.7/dist-packages/sklearn/utils/deprecation.py:144: FutureWarning: The sklearn.neighbors.base module is  deprecated in version 0.22 and will be removed in version 0.24. The corresponding classes / functions should instead be imported from sklearn.neighbors. Anything that cannot be imported from sklearn.neighbors is now part of the private API.\n",
            "  warnings.warn(message, FutureWarning)\n",
            "/usr/local/lib/python3.7/dist-packages/sklearn/utils/deprecation.py:87: FutureWarning: Function safe_indexing is deprecated; safe_indexing is deprecated in version 0.22 and will be removed in version 0.24.\n",
            "  warnings.warn(msg, category=FutureWarning)\n"
          ]
        },
        {
          "output_type": "stream",
          "name": "stdout",
          "text": [
            "Original dataset shape after cleaning Counter({0: 3176, 1: 1460})\n",
            "Resampled dataset shape Counter({0: 3176, 1: 3176})\n"
          ]
        }
      ]
    },
    {
      "cell_type": "code",
      "metadata": {
        "id": "zwG_hLIsj45y"
      },
      "source": [
        "features = pd.DataFrame(X_res, columns = vectorizer.get_feature_names())\n",
        "label = pd.DataFrame(y_res, columns=['label'])"
      ],
      "execution_count": null,
      "outputs": []
    },
    {
      "cell_type": "code",
      "metadata": {
        "colab": {
          "base_uri": "https://localhost:8080/",
          "height": 253
        },
        "id": "HNbj9Reij45y",
        "outputId": "72dd23e5-c31c-414d-a9ca-721c25d1624c"
      },
      "source": [
        "#to visualize the entire dataset\n",
        "whole_data_df = pd.concat([features, label], axis=1)\n",
        "whole_data_df.tail()"
      ],
      "execution_count": null,
      "outputs": [
        {
          "output_type": "execute_result",
          "data": {
            "text/html": [
              "<div>\n",
              "<style scoped>\n",
              "    .dataframe tbody tr th:only-of-type {\n",
              "        vertical-align: middle;\n",
              "    }\n",
              "\n",
              "    .dataframe tbody tr th {\n",
              "        vertical-align: top;\n",
              "    }\n",
              "\n",
              "    .dataframe thead th {\n",
              "        text-align: right;\n",
              "    }\n",
              "</style>\n",
              "<table border=\"1\" class=\"dataframe\">\n",
              "  <thead>\n",
              "    <tr style=\"text-align: right;\">\n",
              "      <th></th>\n",
              "      <th>ability</th>\n",
              "      <th>able</th>\n",
              "      <th>accept</th>\n",
              "      <th>acceptance</th>\n",
              "      <th>access</th>\n",
              "      <th>according</th>\n",
              "      <th>accordingly</th>\n",
              "      <th>account</th>\n",
              "      <th>accountant</th>\n",
              "      <th>accounting</th>\n",
              "      <th>accounts</th>\n",
              "      <th>accuracy</th>\n",
              "      <th>accurate</th>\n",
              "      <th>achieve</th>\n",
              "      <th>acquisition</th>\n",
              "      <th>act</th>\n",
              "      <th>action</th>\n",
              "      <th>actions</th>\n",
              "      <th>active</th>\n",
              "      <th>activities</th>\n",
              "      <th>activity</th>\n",
              "      <th>acton</th>\n",
              "      <th>acts</th>\n",
              "      <th>actual</th>\n",
              "      <th>actually</th>\n",
              "      <th>actuals</th>\n",
              "      <th>ad</th>\n",
              "      <th>add</th>\n",
              "      <th>added</th>\n",
              "      <th>addition</th>\n",
              "      <th>additional</th>\n",
              "      <th>additionally</th>\n",
              "      <th>address</th>\n",
              "      <th>addressed</th>\n",
              "      <th>addresses</th>\n",
              "      <th>adjust</th>\n",
              "      <th>adjusted</th>\n",
              "      <th>adjustments</th>\n",
              "      <th>administration</th>\n",
              "      <th>adobe</th>\n",
              "      <th>...</th>\n",
              "      <th>wilson</th>\n",
              "      <th>window</th>\n",
              "      <th>windows</th>\n",
              "      <th>winfree</th>\n",
              "      <th>wish</th>\n",
              "      <th>withers</th>\n",
              "      <th>woman</th>\n",
              "      <th>women</th>\n",
              "      <th>won</th>\n",
              "      <th>word</th>\n",
              "      <th>words</th>\n",
              "      <th>work</th>\n",
              "      <th>worked</th>\n",
              "      <th>working</th>\n",
              "      <th>works</th>\n",
              "      <th>worksheet</th>\n",
              "      <th>world</th>\n",
              "      <th>worldwide</th>\n",
              "      <th>worth</th>\n",
              "      <th>write</th>\n",
              "      <th>written</th>\n",
              "      <th>wrong</th>\n",
              "      <th>www</th>\n",
              "      <th>wynne</th>\n",
              "      <th>xanax</th>\n",
              "      <th>xls</th>\n",
              "      <th>xp</th>\n",
              "      <th>yahoo</th>\n",
              "      <th>year</th>\n",
              "      <th>years</th>\n",
              "      <th>yes</th>\n",
              "      <th>yesterday</th>\n",
              "      <th>young</th>\n",
              "      <th>yvette</th>\n",
              "      <th>zero</th>\n",
              "      <th>zeroed</th>\n",
              "      <th>zivley</th>\n",
              "      <th>zone</th>\n",
              "      <th>zonedubai</th>\n",
              "      <th>label</th>\n",
              "    </tr>\n",
              "  </thead>\n",
              "  <tbody>\n",
              "    <tr>\n",
              "      <th>6347</th>\n",
              "      <td>0</td>\n",
              "      <td>0</td>\n",
              "      <td>0</td>\n",
              "      <td>0</td>\n",
              "      <td>0</td>\n",
              "      <td>0</td>\n",
              "      <td>0</td>\n",
              "      <td>0</td>\n",
              "      <td>0</td>\n",
              "      <td>0</td>\n",
              "      <td>0</td>\n",
              "      <td>0</td>\n",
              "      <td>0</td>\n",
              "      <td>0</td>\n",
              "      <td>0</td>\n",
              "      <td>0</td>\n",
              "      <td>0</td>\n",
              "      <td>0</td>\n",
              "      <td>0</td>\n",
              "      <td>0</td>\n",
              "      <td>0</td>\n",
              "      <td>0</td>\n",
              "      <td>0</td>\n",
              "      <td>0</td>\n",
              "      <td>0</td>\n",
              "      <td>0</td>\n",
              "      <td>0</td>\n",
              "      <td>0</td>\n",
              "      <td>0</td>\n",
              "      <td>0</td>\n",
              "      <td>0</td>\n",
              "      <td>0</td>\n",
              "      <td>0</td>\n",
              "      <td>0</td>\n",
              "      <td>0</td>\n",
              "      <td>0</td>\n",
              "      <td>0</td>\n",
              "      <td>0</td>\n",
              "      <td>0</td>\n",
              "      <td>0</td>\n",
              "      <td>...</td>\n",
              "      <td>0</td>\n",
              "      <td>0</td>\n",
              "      <td>0</td>\n",
              "      <td>0</td>\n",
              "      <td>0</td>\n",
              "      <td>0</td>\n",
              "      <td>0</td>\n",
              "      <td>0</td>\n",
              "      <td>0</td>\n",
              "      <td>0</td>\n",
              "      <td>0</td>\n",
              "      <td>0</td>\n",
              "      <td>0</td>\n",
              "      <td>0</td>\n",
              "      <td>0</td>\n",
              "      <td>0</td>\n",
              "      <td>0</td>\n",
              "      <td>0</td>\n",
              "      <td>0</td>\n",
              "      <td>0</td>\n",
              "      <td>0</td>\n",
              "      <td>0</td>\n",
              "      <td>0</td>\n",
              "      <td>0</td>\n",
              "      <td>0</td>\n",
              "      <td>0</td>\n",
              "      <td>0</td>\n",
              "      <td>0</td>\n",
              "      <td>0</td>\n",
              "      <td>0</td>\n",
              "      <td>0</td>\n",
              "      <td>0</td>\n",
              "      <td>0</td>\n",
              "      <td>0</td>\n",
              "      <td>0</td>\n",
              "      <td>0</td>\n",
              "      <td>0</td>\n",
              "      <td>0</td>\n",
              "      <td>0</td>\n",
              "      <td>1</td>\n",
              "    </tr>\n",
              "    <tr>\n",
              "      <th>6348</th>\n",
              "      <td>0</td>\n",
              "      <td>0</td>\n",
              "      <td>0</td>\n",
              "      <td>0</td>\n",
              "      <td>0</td>\n",
              "      <td>0</td>\n",
              "      <td>0</td>\n",
              "      <td>0</td>\n",
              "      <td>0</td>\n",
              "      <td>0</td>\n",
              "      <td>0</td>\n",
              "      <td>0</td>\n",
              "      <td>0</td>\n",
              "      <td>0</td>\n",
              "      <td>0</td>\n",
              "      <td>5</td>\n",
              "      <td>1</td>\n",
              "      <td>1</td>\n",
              "      <td>0</td>\n",
              "      <td>0</td>\n",
              "      <td>0</td>\n",
              "      <td>0</td>\n",
              "      <td>0</td>\n",
              "      <td>1</td>\n",
              "      <td>0</td>\n",
              "      <td>0</td>\n",
              "      <td>0</td>\n",
              "      <td>0</td>\n",
              "      <td>0</td>\n",
              "      <td>0</td>\n",
              "      <td>0</td>\n",
              "      <td>0</td>\n",
              "      <td>0</td>\n",
              "      <td>0</td>\n",
              "      <td>0</td>\n",
              "      <td>0</td>\n",
              "      <td>0</td>\n",
              "      <td>0</td>\n",
              "      <td>0</td>\n",
              "      <td>0</td>\n",
              "      <td>...</td>\n",
              "      <td>0</td>\n",
              "      <td>0</td>\n",
              "      <td>0</td>\n",
              "      <td>0</td>\n",
              "      <td>1</td>\n",
              "      <td>0</td>\n",
              "      <td>0</td>\n",
              "      <td>1</td>\n",
              "      <td>0</td>\n",
              "      <td>0</td>\n",
              "      <td>1</td>\n",
              "      <td>1</td>\n",
              "      <td>0</td>\n",
              "      <td>0</td>\n",
              "      <td>0</td>\n",
              "      <td>0</td>\n",
              "      <td>0</td>\n",
              "      <td>0</td>\n",
              "      <td>0</td>\n",
              "      <td>0</td>\n",
              "      <td>0</td>\n",
              "      <td>0</td>\n",
              "      <td>0</td>\n",
              "      <td>0</td>\n",
              "      <td>0</td>\n",
              "      <td>0</td>\n",
              "      <td>0</td>\n",
              "      <td>0</td>\n",
              "      <td>0</td>\n",
              "      <td>0</td>\n",
              "      <td>0</td>\n",
              "      <td>0</td>\n",
              "      <td>0</td>\n",
              "      <td>0</td>\n",
              "      <td>0</td>\n",
              "      <td>0</td>\n",
              "      <td>0</td>\n",
              "      <td>0</td>\n",
              "      <td>0</td>\n",
              "      <td>1</td>\n",
              "    </tr>\n",
              "    <tr>\n",
              "      <th>6349</th>\n",
              "      <td>0</td>\n",
              "      <td>0</td>\n",
              "      <td>0</td>\n",
              "      <td>0</td>\n",
              "      <td>0</td>\n",
              "      <td>0</td>\n",
              "      <td>0</td>\n",
              "      <td>0</td>\n",
              "      <td>0</td>\n",
              "      <td>0</td>\n",
              "      <td>0</td>\n",
              "      <td>0</td>\n",
              "      <td>0</td>\n",
              "      <td>0</td>\n",
              "      <td>0</td>\n",
              "      <td>0</td>\n",
              "      <td>0</td>\n",
              "      <td>0</td>\n",
              "      <td>0</td>\n",
              "      <td>0</td>\n",
              "      <td>0</td>\n",
              "      <td>0</td>\n",
              "      <td>0</td>\n",
              "      <td>0</td>\n",
              "      <td>0</td>\n",
              "      <td>0</td>\n",
              "      <td>0</td>\n",
              "      <td>0</td>\n",
              "      <td>0</td>\n",
              "      <td>0</td>\n",
              "      <td>0</td>\n",
              "      <td>0</td>\n",
              "      <td>0</td>\n",
              "      <td>0</td>\n",
              "      <td>0</td>\n",
              "      <td>0</td>\n",
              "      <td>0</td>\n",
              "      <td>0</td>\n",
              "      <td>0</td>\n",
              "      <td>0</td>\n",
              "      <td>...</td>\n",
              "      <td>0</td>\n",
              "      <td>0</td>\n",
              "      <td>0</td>\n",
              "      <td>0</td>\n",
              "      <td>0</td>\n",
              "      <td>0</td>\n",
              "      <td>0</td>\n",
              "      <td>0</td>\n",
              "      <td>0</td>\n",
              "      <td>0</td>\n",
              "      <td>0</td>\n",
              "      <td>0</td>\n",
              "      <td>0</td>\n",
              "      <td>0</td>\n",
              "      <td>0</td>\n",
              "      <td>0</td>\n",
              "      <td>0</td>\n",
              "      <td>0</td>\n",
              "      <td>0</td>\n",
              "      <td>0</td>\n",
              "      <td>0</td>\n",
              "      <td>0</td>\n",
              "      <td>0</td>\n",
              "      <td>0</td>\n",
              "      <td>0</td>\n",
              "      <td>0</td>\n",
              "      <td>0</td>\n",
              "      <td>0</td>\n",
              "      <td>0</td>\n",
              "      <td>0</td>\n",
              "      <td>0</td>\n",
              "      <td>0</td>\n",
              "      <td>0</td>\n",
              "      <td>0</td>\n",
              "      <td>0</td>\n",
              "      <td>0</td>\n",
              "      <td>0</td>\n",
              "      <td>0</td>\n",
              "      <td>0</td>\n",
              "      <td>1</td>\n",
              "    </tr>\n",
              "    <tr>\n",
              "      <th>6350</th>\n",
              "      <td>0</td>\n",
              "      <td>0</td>\n",
              "      <td>0</td>\n",
              "      <td>0</td>\n",
              "      <td>0</td>\n",
              "      <td>0</td>\n",
              "      <td>0</td>\n",
              "      <td>0</td>\n",
              "      <td>0</td>\n",
              "      <td>0</td>\n",
              "      <td>0</td>\n",
              "      <td>0</td>\n",
              "      <td>0</td>\n",
              "      <td>0</td>\n",
              "      <td>0</td>\n",
              "      <td>0</td>\n",
              "      <td>0</td>\n",
              "      <td>0</td>\n",
              "      <td>0</td>\n",
              "      <td>0</td>\n",
              "      <td>0</td>\n",
              "      <td>0</td>\n",
              "      <td>0</td>\n",
              "      <td>0</td>\n",
              "      <td>0</td>\n",
              "      <td>0</td>\n",
              "      <td>0</td>\n",
              "      <td>0</td>\n",
              "      <td>0</td>\n",
              "      <td>0</td>\n",
              "      <td>0</td>\n",
              "      <td>0</td>\n",
              "      <td>0</td>\n",
              "      <td>0</td>\n",
              "      <td>0</td>\n",
              "      <td>0</td>\n",
              "      <td>0</td>\n",
              "      <td>0</td>\n",
              "      <td>0</td>\n",
              "      <td>0</td>\n",
              "      <td>...</td>\n",
              "      <td>0</td>\n",
              "      <td>0</td>\n",
              "      <td>0</td>\n",
              "      <td>0</td>\n",
              "      <td>0</td>\n",
              "      <td>0</td>\n",
              "      <td>0</td>\n",
              "      <td>0</td>\n",
              "      <td>0</td>\n",
              "      <td>0</td>\n",
              "      <td>0</td>\n",
              "      <td>0</td>\n",
              "      <td>0</td>\n",
              "      <td>0</td>\n",
              "      <td>0</td>\n",
              "      <td>0</td>\n",
              "      <td>0</td>\n",
              "      <td>0</td>\n",
              "      <td>0</td>\n",
              "      <td>0</td>\n",
              "      <td>0</td>\n",
              "      <td>0</td>\n",
              "      <td>0</td>\n",
              "      <td>0</td>\n",
              "      <td>0</td>\n",
              "      <td>0</td>\n",
              "      <td>0</td>\n",
              "      <td>0</td>\n",
              "      <td>0</td>\n",
              "      <td>0</td>\n",
              "      <td>0</td>\n",
              "      <td>0</td>\n",
              "      <td>0</td>\n",
              "      <td>0</td>\n",
              "      <td>0</td>\n",
              "      <td>0</td>\n",
              "      <td>0</td>\n",
              "      <td>0</td>\n",
              "      <td>0</td>\n",
              "      <td>1</td>\n",
              "    </tr>\n",
              "    <tr>\n",
              "      <th>6351</th>\n",
              "      <td>0</td>\n",
              "      <td>0</td>\n",
              "      <td>0</td>\n",
              "      <td>0</td>\n",
              "      <td>0</td>\n",
              "      <td>0</td>\n",
              "      <td>0</td>\n",
              "      <td>1</td>\n",
              "      <td>0</td>\n",
              "      <td>0</td>\n",
              "      <td>0</td>\n",
              "      <td>0</td>\n",
              "      <td>0</td>\n",
              "      <td>0</td>\n",
              "      <td>0</td>\n",
              "      <td>0</td>\n",
              "      <td>0</td>\n",
              "      <td>0</td>\n",
              "      <td>0</td>\n",
              "      <td>0</td>\n",
              "      <td>0</td>\n",
              "      <td>0</td>\n",
              "      <td>0</td>\n",
              "      <td>0</td>\n",
              "      <td>0</td>\n",
              "      <td>0</td>\n",
              "      <td>0</td>\n",
              "      <td>0</td>\n",
              "      <td>0</td>\n",
              "      <td>0</td>\n",
              "      <td>0</td>\n",
              "      <td>0</td>\n",
              "      <td>1</td>\n",
              "      <td>0</td>\n",
              "      <td>0</td>\n",
              "      <td>0</td>\n",
              "      <td>0</td>\n",
              "      <td>0</td>\n",
              "      <td>0</td>\n",
              "      <td>0</td>\n",
              "      <td>...</td>\n",
              "      <td>0</td>\n",
              "      <td>0</td>\n",
              "      <td>0</td>\n",
              "      <td>0</td>\n",
              "      <td>0</td>\n",
              "      <td>0</td>\n",
              "      <td>0</td>\n",
              "      <td>0</td>\n",
              "      <td>0</td>\n",
              "      <td>0</td>\n",
              "      <td>0</td>\n",
              "      <td>0</td>\n",
              "      <td>0</td>\n",
              "      <td>0</td>\n",
              "      <td>0</td>\n",
              "      <td>0</td>\n",
              "      <td>0</td>\n",
              "      <td>0</td>\n",
              "      <td>0</td>\n",
              "      <td>0</td>\n",
              "      <td>0</td>\n",
              "      <td>0</td>\n",
              "      <td>0</td>\n",
              "      <td>0</td>\n",
              "      <td>0</td>\n",
              "      <td>0</td>\n",
              "      <td>0</td>\n",
              "      <td>0</td>\n",
              "      <td>0</td>\n",
              "      <td>0</td>\n",
              "      <td>0</td>\n",
              "      <td>0</td>\n",
              "      <td>0</td>\n",
              "      <td>0</td>\n",
              "      <td>0</td>\n",
              "      <td>0</td>\n",
              "      <td>0</td>\n",
              "      <td>0</td>\n",
              "      <td>0</td>\n",
              "      <td>1</td>\n",
              "    </tr>\n",
              "  </tbody>\n",
              "</table>\n",
              "<p>5 rows × 2035 columns</p>\n",
              "</div>"
            ],
            "text/plain": [
              "      ability  able  accept  acceptance  ...  zivley  zone  zonedubai  label\n",
              "6347        0     0       0           0  ...       0     0          0      1\n",
              "6348        0     0       0           0  ...       0     0          0      1\n",
              "6349        0     0       0           0  ...       0     0          0      1\n",
              "6350        0     0       0           0  ...       0     0          0      1\n",
              "6351        0     0       0           0  ...       0     0          0      1\n",
              "\n",
              "[5 rows x 2035 columns]"
            ]
          },
          "metadata": {},
          "execution_count": 28
        }
      ]
    },
    {
      "cell_type": "code",
      "metadata": {
        "colab": {
          "base_uri": "https://localhost:8080/"
        },
        "id": "FXhs82BYEVLV",
        "outputId": "ed808b63-8b33-4a78-83d7-33966ddf9aea"
      },
      "source": [
        "whole_data_df.shape, whole_data_df.drop_duplicates().shape\n",
        "#we have about 6352-5418 duplicated, these are danger for the model"
      ],
      "execution_count": null,
      "outputs": [
        {
          "output_type": "execute_result",
          "data": {
            "text/plain": [
              "((6352, 2035), (5465, 2035))"
            ]
          },
          "metadata": {},
          "execution_count": 29
        }
      ]
    },
    {
      "cell_type": "code",
      "metadata": {
        "id": "QB23xPfGEcME"
      },
      "source": [
        "whole_data_df_unique = whole_data_df.drop_duplicates()"
      ],
      "execution_count": null,
      "outputs": []
    },
    {
      "cell_type": "code",
      "metadata": {
        "colab": {
          "base_uri": "https://localhost:8080/",
          "height": 264
        },
        "id": "__WICFEKFzEk",
        "outputId": "c8ca7cc0-deb6-4767-f7e1-f3f5aee8b037"
      },
      "source": [
        "plt.pie(whole_data_df_unique['label'].value_counts(), labels=['Ham', 'Spam'], autopct='%1.2f%%')\n",
        "plt.title('% of Spam and ham e-mails')\n",
        "plt.show()\n",
        "#we this case we can eliminate the high imbalance "
      ],
      "execution_count": null,
      "outputs": [
        {
          "output_type": "display_data",
          "data": {
            "image/png": "[encoded data removed]",
            "text/plain": [
              "<Figure size 432x288 with 1 Axes>"
            ]
          },
          "metadata": {}
        }
      ]
    },
    {
      "cell_type": "code",
      "metadata": {
        "id": "bBOG_PPpGZvo"
      },
      "source": [
        "label = whole_data_df_unique.pop('label')\n",
        "features = whole_data_df_unique"
      ],
      "execution_count": null,
      "outputs": []
    },
    {
      "cell_type": "markdown",
      "metadata": {
        "id": "KRJdPIq-j45z"
      },
      "source": [
        "#### @Train-Test split"
      ]
    },
    {
      "cell_type": "code",
      "metadata": {
        "id": "N0evYsksj45z"
      },
      "source": [
        "from sklearn.model_selection import train_test_split\n",
        "x_train, x_test, y_train, y_test = train_test_split(features,\n",
        "                                                    label,\n",
        "                                                    test_size=0.3,\n",
        "                                                    random_state = 42)"
      ],
      "execution_count": null,
      "outputs": []
    },
    {
      "cell_type": "code",
      "metadata": {
        "colab": {
          "base_uri": "https://localhost:8080/"
        },
        "id": "OxU9ODf8j45z",
        "outputId": "d2ad2f17-8028-4803-a299-1a1eb72a7784"
      },
      "source": [
        "print(r'Train size: {} Test size : {}'.format(len(x_train), len(x_test)))"
      ],
      "execution_count": null,
      "outputs": [
        {
          "output_type": "stream",
          "name": "stdout",
          "text": [
            "Train size: 3825 Test size : 1640\n"
          ]
        }
      ]
    },
    {
      "cell_type": "code",
      "metadata": {
        "id": "796ThhX3j45z"
      },
      "source": [
        "# scaling all features\n",
        "from sklearn.preprocessing import MinMaxScaler\n",
        "MMS = MinMaxScaler()\n",
        "x_train_scaled = pd.DataFrame(MMS.fit_transform(x_train), columns=x_train.columns)\n",
        "x_test_scaled = pd.DataFrame(MMS.transform(x_test), columns=x_test.columns)"
      ],
      "execution_count": null,
      "outputs": []
    },
    {
      "cell_type": "code",
      "metadata": {
        "colab": {
          "base_uri": "https://localhost:8080/"
        },
        "id": "Rh6Pq_whpENK",
        "outputId": "29d3ffce-b0f2-4ca2-b743-4598d6fb0cff"
      },
      "source": [
        "x_train_scaled.shape, x_test_scaled.shape"
      ],
      "execution_count": null,
      "outputs": [
        {
          "output_type": "execute_result",
          "data": {
            "text/plain": [
              "((3825, 2034), (1640, 2034))"
            ]
          },
          "metadata": {},
          "execution_count": 36
        }
      ]
    },
    {
      "cell_type": "code",
      "metadata": {
        "id": "UJzbVfPhqn33"
      },
      "source": [
        "# check if the feature found in training is also on the testing \n",
        "h = x_test.sum()\n",
        "c = 0\n",
        "for item in h:\n",
        "    if h[c]== 0:\n",
        "        print(item)\n",
        "    c+=1"
      ],
      "execution_count": null,
      "outputs": []
    },
    {
      "cell_type": "markdown",
      "metadata": {
        "id": "Rm7UYyEUj45z"
      },
      "source": [
        "### Model Evaluations "
      ]
    },
    {
      "cell_type": "code",
      "metadata": {
        "colab": {
          "base_uri": "https://localhost:8080/",
          "height": 959
        },
        "id": "HLkt8xrcj45z",
        "outputId": "2f38e91a-9b65-48ff-bf54-7355a738096b"
      },
      "source": [
        "# Random Forest classification\n",
        "\n",
        "from sklearn.ensemble import RandomForestClassifier\n",
        "from sklearn.metrics import confusion_matrix, classification_report\n",
        "from sklearn import metrics\n",
        "\n",
        "RandomForest_model = RandomForestClassifier(n_estimators=200, random_state=42)\n",
        "RandomForest_model.fit(x_train_scaled, y_train)\n",
        "print(\"\\t\\t\\tRandomForestClassifier\\n\\n\")\n",
        "print('<==========================Traning data performance =============================>')\n",
        "print('Random Forest Model Accuracy : ', RandomForest_model.score(x_train_scaled, y_train)*100, '%')\n",
        "\n",
        "prediction = RandomForest_model.predict(x_train_scaled)\n",
        "print('\\nConfusion matrix :')\n",
        "print(confusion_matrix(y_train, prediction))\n",
        "      \n",
        "print('\\nClassification report:')      \n",
        "print(classification_report(y_train, prediction))\n",
        "\n",
        "\n",
        "print('<==========================Testing data Performance ===========================>')\n",
        "print('Random Forest Model Accuracy : ', RandomForest_model.score(x_test_scaled, y_test)*100, '%')\n",
        "\n",
        "prediction = RandomForest_model.predict(x_test_scaled)\n",
        "print('\\nConfusion matrix :')\n",
        "print(confusion_matrix(y_test, prediction))\n",
        "      \n",
        "print('\\nClassification report:')      \n",
        "print(classification_report(y_test, prediction))\n",
        "print('\\nTest ROC curve')\n",
        "metrics.plot_roc_curve(RandomForest_model,x_test_scaled,y_test)"
      ],
      "execution_count": null,
      "outputs": [
        {
          "output_type": "stream",
          "name": "stdout",
          "text": [
            "\t\t\tRandomForestClassifier\n",
            "\n",
            "\n",
            "<==========================Traning data performance =============================>\n",
            "Random Forest Model Accuracy :  99.97385620915033 %\n",
            "\n",
            "Confusion matrix :\n",
            "[[2209    1]\n",
            " [   0 1615]]\n",
            "\n",
            "Classification report:\n",
            "              precision    recall  f1-score   support\n",
            "\n",
            "           0       1.00      1.00      1.00      2210\n",
            "           1       1.00      1.00      1.00      1615\n",
            "\n",
            "    accuracy                           1.00      3825\n",
            "   macro avg       1.00      1.00      1.00      3825\n",
            "weighted avg       1.00      1.00      1.00      3825\n",
            "\n",
            "<==========================Testing data Performance ===========================>\n",
            "Random Forest Model Accuracy :  97.6829268292683 %\n",
            "\n",
            "Confusion matrix :\n",
            "[[926  18]\n",
            " [ 20 676]]\n",
            "\n",
            "Classification report:\n",
            "              precision    recall  f1-score   support\n",
            "\n",
            "           0       0.98      0.98      0.98       944\n",
            "           1       0.97      0.97      0.97       696\n",
            "\n",
            "    accuracy                           0.98      1640\n",
            "   macro avg       0.98      0.98      0.98      1640\n",
            "weighted avg       0.98      0.98      0.98      1640\n",
            "\n",
            "\n",
            "Test ROC curve\n"
          ]
        },
        {
          "output_type": "execute_result",
          "data": {
            "text/plain": [
              "<sklearn.metrics._plot.roc_curve.RocCurveDisplay at 0x7f1bfccf6ed0>"
            ]
          },
          "metadata": {},
          "execution_count": 37
        },
        {
          "output_type": "display_data",
          "data": {
            "image/png": "[encoded data removed]",
            "text/plain": [
              "<Figure size 432x288 with 1 Axes>"
            ]
          },
          "metadata": {
            "needs_background": "light"
          }
        }
      ]
    },
    {
      "cell_type": "code",
      "metadata": {
        "colab": {
          "base_uri": "https://localhost:8080/",
          "height": 1000
        },
        "id": "wKz57IePj450",
        "outputId": "4c1bc71d-0ab2-4616-f60a-52d0a2117577"
      },
      "source": [
        "#Feature importance analysis\n",
        "feat_labels = x_train_scaled.columns\n",
        "importances = RandomForest_model.feature_importances_\n",
        "indices = np.argsort(importances)[::-1]\n",
        "for f in range(x_train_scaled.shape[1]):\n",
        "    print(\"%2d) %-*s %f\" % (f + 1, 30, feat_labels[indices[f]], importances[indices[f]]))\n",
        "    if f == 100:\n",
        "        break\n",
        "\n",
        "plt.title('Feature Importance')\n",
        "plt.bar(range(x_train_scaled.shape[1]), importances[indices], align='center')\n",
        "plt.xticks(range(x_train_scaled.shape[1]),feat_labels[indices], rotation=90)\n",
        "plt.xlim([0, 20])\n",
        "plt.tight_layout()\n",
        "plt.show()"
      ],
      "execution_count": null,
      "outputs": [
        {
          "output_type": "stream",
          "name": "stdout",
          "text": [
            " 1) enron                          0.043567\n",
            " 2) thanks                         0.034202\n",
            " 3) daren                          0.031851\n",
            " 4) hpl                            0.026120\n",
            " 5) meter                          0.023619\n",
            " 6) gas                            0.023022\n",
            " 7) deal                           0.022905\n",
            " 8) attached                       0.021612\n",
            " 9) cc                             0.019482\n",
            "10) questions                      0.018911\n",
            "11) subject                        0.015852\n",
            "12) http                           0.014849\n",
            "13) pm                             0.014694\n",
            "14) forwarded                      0.012958\n",
            "15) hou                            0.011992\n",
            "16) let                            0.011753\n",
            "17) mmbtu                          0.011532\n",
            "18) ect                            0.010205\n",
            "19) know                           0.009706\n",
            "20) sitara                         0.009666\n",
            "21) farmer                         0.009555\n",
            "22) nom                            0.009441\n",
            "23) volumes                        0.008853\n",
            "24) xls                            0.008273\n",
            "25) bob                            0.007925\n",
            "26) following                      0.007543\n",
            "27) volume                         0.007136\n",
            "28) nomination                     0.007094\n",
            "29) doc                            0.006804\n",
            "30) corp                           0.006479\n",
            "31) texas                          0.006461\n",
            "32) money                          0.005954\n",
            "33) plant                          0.005578\n",
            "34) flow                           0.005039\n",
            "35) teco                           0.004497\n",
            "36) actuals                        0.004408\n",
            "37) changes                        0.004341\n",
            "38) email                          0.004203\n",
            "39) fyi                            0.004142\n",
            "40) online                         0.004025\n",
            "41) file                           0.003785\n",
            "42) change                         0.003499\n",
            "43) neon                           0.003490\n",
            "44) www                            0.003479\n",
            "45) megan                          0.003323\n",
            "46) tap                            0.003244\n",
            "47) prescription                   0.003218\n",
            "48) mary                           0.003166\n",
            "49) april                          0.003165\n",
            "50) houston                        0.003122\n",
            "51) com                            0.003116\n",
            "52) paliourg                       0.002873\n",
            "53) need                           0.002802\n",
            "54) friday                         0.002711\n",
            "55) noms                           0.002638\n",
            "56) daily                          0.002626\n",
            "57) day                            0.002454\n",
            "58) fuels                          0.002416\n",
            "59) ena                            0.002408\n",
            "60) june                           0.002395\n",
            "61) february                       0.002374\n",
            "62) investment                     0.002354\n",
            "63) deals                          0.002313\n",
            "64) contract                       0.002287\n",
            "65) march                          0.002267\n",
            "66) meds                           0.002256\n",
            "67) desk                           0.002163\n",
            "68) stop                           0.002111\n",
            "69) pictures                       0.002100\n",
            "70) gary                           0.002094\n",
            "71) eastrans                       0.002060\n",
            "72) deliveries                     0.002013\n",
            "73) monday                         0.001956\n",
            "74) viagra                         0.001884\n",
            "75) click                          0.001857\n",
            "76) pat                            0.001855\n",
            "77) spreadsheet                    0.001820\n",
            "78) prices                         0.001787\n",
            "79) txu                            0.001786\n",
            "80) darren                         0.001757\n",
            "81) revised                        0.001712\n",
            "82) tenaska                        0.001710\n",
            "83) special                        0.001708\n",
            "84) robert                         0.001702\n",
            "85) month                          0.001691\n",
            "86) afternoon                      0.001677\n",
            "87) pipeline                       0.001669\n",
            "88) valley                         0.001628\n",
            "89) julie                          0.001624\n",
            "90) mark                           0.001600\n",
            "91) microsoft                      0.001592\n",
            "92) resume                         0.001587\n",
            "93) october                        0.001581\n",
            "94) act                            0.001575\n",
            "95) link                           0.001573\n",
            "96) july                           0.001560\n",
            "97) th                             0.001557\n",
            "98) nominations                    0.001551\n",
            "99) best                           0.001527\n",
            "100) pain                           0.001520\n",
            "101) pg                             0.001514\n"
          ]
        },
        {
          "output_type": "display_data",
          "data": {
            "image/png": "[encoded data removed]",
            "text/plain": [
              "<Figure size 432x288 with 1 Axes>"
            ]
          },
          "metadata": {
            "needs_background": "light"
          }
        }
      ]
    },
    {
      "cell_type": "code",
      "metadata": {
        "colab": {
          "base_uri": "https://localhost:8080/",
          "height": 925
        },
        "id": "6RPhepApj450",
        "outputId": "5d1b8617-fe1e-4b22-e9f5-496b443e76cb"
      },
      "source": [
        "#Naive Bayes model\n",
        "from sklearn.naive_bayes import BernoulliNB\n",
        "NBayes_model = BernoulliNB()\n",
        "NBayes_model.fit(x_train_scaled, y_train)\n",
        "print(\"\\t\\t\\tBernoulliNB\")\n",
        "print('<==========================Traning data performance =============================>')\n",
        "print('Train Model Accuracy : ', NBayes_model.score(x_train_scaled, y_train)*100, '%')\n",
        "\n",
        "y_pred_nb = NBayes_model.predict(x_train_scaled)\n",
        "print('\\nConfusion matrix :')\n",
        "print(confusion_matrix(y_train, y_pred_nb))\n",
        "      \n",
        "print('\\nClassification report:')      \n",
        "print(classification_report(y_train, y_pred_nb))\n",
        "\n",
        "\n",
        "print('<==========================Testing data Performance ===========================>')\n",
        "print('Test Model Accuracy : ', NBayes_model.score(x_test_scaled, y_test)*100, '%')\n",
        "\n",
        "y_pred_nb = NBayes_model.predict(x_test_scaled)\n",
        "print('\\nConfusion matrix :')\n",
        "print(confusion_matrix(y_test, y_pred_nb))\n",
        "      \n",
        "print('\\nClassification report:')      \n",
        "print(classification_report(y_test, y_pred_nb))\n",
        "print('\\nROC curve')\n",
        "metrics.plot_roc_curve(NBayes_model,x_test_scaled,y_test)"
      ],
      "execution_count": null,
      "outputs": [
        {
          "output_type": "stream",
          "name": "stdout",
          "text": [
            "\t\t\tBernoulliNB\n",
            "<==========================Traning data performance =============================>\n",
            "Train Model Accuracy :  96.78431372549021 %\n",
            "\n",
            "Confusion matrix :\n",
            "[[2094  116]\n",
            " [   7 1608]]\n",
            "\n",
            "Classification report:\n",
            "              precision    recall  f1-score   support\n",
            "\n",
            "           0       1.00      0.95      0.97      2210\n",
            "           1       0.93      1.00      0.96      1615\n",
            "\n",
            "    accuracy                           0.97      3825\n",
            "   macro avg       0.96      0.97      0.97      3825\n",
            "weighted avg       0.97      0.97      0.97      3825\n",
            "\n",
            "<==========================Testing data Performance ===========================>\n",
            "Test Model Accuracy :  96.70731707317073 %\n",
            "\n",
            "Confusion matrix :\n",
            "[[894  50]\n",
            " [  4 692]]\n",
            "\n",
            "Classification report:\n",
            "              precision    recall  f1-score   support\n",
            "\n",
            "           0       1.00      0.95      0.97       944\n",
            "           1       0.93      0.99      0.96       696\n",
            "\n",
            "    accuracy                           0.97      1640\n",
            "   macro avg       0.96      0.97      0.97      1640\n",
            "weighted avg       0.97      0.97      0.97      1640\n",
            "\n",
            "\n",
            "ROC curve\n"
          ]
        },
        {
          "output_type": "execute_result",
          "data": {
            "text/plain": [
              "<sklearn.metrics._plot.roc_curve.RocCurveDisplay at 0x7f1bfd32f550>"
            ]
          },
          "metadata": {},
          "execution_count": 39
        },
        {
          "output_type": "display_data",
          "data": {
            "image/png": "[encoded data removed]",
            "text/plain": [
              "<Figure size 432x288 with 1 Axes>"
            ]
          },
          "metadata": {
            "needs_background": "light"
          }
        }
      ]
    },
    {
      "cell_type": "code",
      "metadata": {
        "colab": {
          "base_uri": "https://localhost:8080/",
          "height": 925
        },
        "id": "xBUa2xFQUejm",
        "outputId": "1c552c3a-d0fd-465f-f22d-c5b6d5fd4c82"
      },
      "source": [
        "#Naive Bayes model\n",
        "from sklearn.naive_bayes import GaussianNB\n",
        "GNBayes_model = GaussianNB()\n",
        "GNBayes_model.fit(x_train_scaled, y_train)\n",
        "print(\"\\t\\t\\tBernoulliNB\")\n",
        "print('<==========================Traning data performance =============================>')\n",
        "print('Train Model Accuracy : ', GNBayes_model.score(x_train_scaled, y_train)*100, '%')\n",
        "\n",
        "y_pred_nb = GNBayes_model.predict(x_train_scaled)\n",
        "print('\\nConfusion matrix :')\n",
        "print(confusion_matrix(y_train, y_pred_nb))\n",
        "      \n",
        "print('\\nClassification report:')      \n",
        "print(classification_report(y_train, y_pred_nb))\n",
        "\n",
        "\n",
        "print('<==========================Testing data Performance ===========================>')\n",
        "print('Test Model Accuracy : ', GNBayes_model.score(x_test_scaled, y_test)*100, '%')\n",
        "\n",
        "y_pred_nb = GNBayes_model.predict(x_test_scaled)\n",
        "print('\\nConfusion matrix :')\n",
        "print(confusion_matrix(y_test, y_pred_nb))\n",
        "      \n",
        "print('\\nClassification report:')      \n",
        "print(classification_report(y_test, y_pred_nb))\n",
        "print('\\nROC curve')\n",
        "metrics.plot_roc_curve(GNBayes_model,x_test_scaled,y_test)"
      ],
      "execution_count": null,
      "outputs": [
        {
          "output_type": "stream",
          "name": "stdout",
          "text": [
            "\t\t\tBernoulliNB\n",
            "<==========================Traning data performance =============================>\n",
            "Train Model Accuracy :  97.41176470588235 %\n",
            "\n",
            "Confusion matrix :\n",
            "[[2112   98]\n",
            " [   1 1614]]\n",
            "\n",
            "Classification report:\n",
            "              precision    recall  f1-score   support\n",
            "\n",
            "           0       1.00      0.96      0.98      2210\n",
            "           1       0.94      1.00      0.97      1615\n",
            "\n",
            "    accuracy                           0.97      3825\n",
            "   macro avg       0.97      0.98      0.97      3825\n",
            "weighted avg       0.98      0.97      0.97      3825\n",
            "\n",
            "<==========================Testing data Performance ===========================>\n",
            "Test Model Accuracy :  95.48780487804878 %\n",
            "\n",
            "Confusion matrix :\n",
            "[[899  45]\n",
            " [ 29 667]]\n",
            "\n",
            "Classification report:\n",
            "              precision    recall  f1-score   support\n",
            "\n",
            "           0       0.97      0.95      0.96       944\n",
            "           1       0.94      0.96      0.95       696\n",
            "\n",
            "    accuracy                           0.95      1640\n",
            "   macro avg       0.95      0.96      0.95      1640\n",
            "weighted avg       0.96      0.95      0.95      1640\n",
            "\n",
            "\n",
            "ROC curve\n"
          ]
        },
        {
          "output_type": "execute_result",
          "data": {
            "text/plain": [
              "<sklearn.metrics._plot.roc_curve.RocCurveDisplay at 0x7f1bfd239250>"
            ]
          },
          "metadata": {},
          "execution_count": 40
        },
        {
          "output_type": "display_data",
          "data": {
            "image/png": "[encoded data removed]",
            "text/plain": [
              "<Figure size 432x288 with 1 Axes>"
            ]
          },
          "metadata": {
            "needs_background": "light"
          }
        }
      ]
    },
    {
      "cell_type": "markdown",
      "metadata": {
        "id": "VLBLspDquwJd"
      },
      "source": [
        "### Comparision of AUC(area under the ROC curve) of Randomforest and Naivebayes for training and testing data"
      ]
    },
    {
      "cell_type": "code",
      "metadata": {
        "colab": {
          "base_uri": "https://localhost:8080/",
          "height": 308
        },
        "id": "lQaHzkSeurxK",
        "outputId": "e257f810-8236-47c8-c756-f6c53fed7e83"
      },
      "source": [
        "#Random forest\n",
        "fig = metrics.plot_roc_curve(RandomForest_model, x_train_scaled, y_train)\n",
        "fig = metrics.plot_roc_curve(RandomForest_model, x_test_scaled, y_test, ax = fig.ax_)\n",
        "fig.figure_.suptitle(\"ROC curve comparison of Random forest( Training vs Testing )\")\n",
        "plt.show() #Training AUC = 1.0, Testing AUC = 0.99"
      ],
      "execution_count": null,
      "outputs": [
        {
          "output_type": "display_data",
          "data": {
            "image/png": "[encoded data removed]",
            "text/plain": [
              "<Figure size 432x288 with 1 Axes>"
            ]
          },
          "metadata": {
            "needs_background": "light"
          }
        }
      ]
    },
    {
      "cell_type": "code",
      "metadata": {
        "colab": {
          "base_uri": "https://localhost:8080/",
          "height": 308
        },
        "id": "-9VtpNagxcys",
        "outputId": "bcd50492-5a09-41e7-f697-4bc185d50bf7"
      },
      "source": [
        "#BernoulliNaiveBayes\n",
        "fig = metrics.plot_roc_curve(NBayes_model, x_train_scaled, y_train)\n",
        "fig = metrics.plot_roc_curve(NBayes_model, x_test_scaled, y_test, ax = fig.ax_)\n",
        "fig.figure_.suptitle(\"ROC curve comparison of BernoulliNaiveBayes ( Training vs Testing )\")\n",
        "plt.show() #Training AUC = 0.98, Testing AUC = 0.98"
      ],
      "execution_count": null,
      "outputs": [
        {
          "output_type": "display_data",
          "data": {
            "image/png": "[encoded data removed]",
            "text/plain": [
              "<Figure size 432x288 with 1 Axes>"
            ]
          },
          "metadata": {
            "needs_background": "light"
          }
        }
      ]
    },
    {
      "cell_type": "markdown",
      "metadata": {
        "id": "SzlW9u0mx3QB"
      },
      "source": [
        "### To evaluate and compare their performance using testset"
      ]
    },
    {
      "cell_type": "code",
      "metadata": {
        "colab": {
          "base_uri": "https://localhost:8080/",
          "height": 308
        },
        "id": "9cIaE0s8x2U1",
        "outputId": "bf7d9771-2096-45fb-9034-464b096ce6b0"
      },
      "source": [
        "#BernoulliNaiveBayes\n",
        "fig = metrics.plot_roc_curve(RandomForest_model, x_train_scaled, y_train)\n",
        "fig = metrics.plot_roc_curve(NBayes_model, x_test_scaled, y_test, ax = fig.ax_)\n",
        "fig.figure_.suptitle(\"ROC curve comparison of BernoulliNaiveBayes RandomForest_model ( Testing data)\")\n",
        "plt.show() "
      ],
      "execution_count": null,
      "outputs": [
        {
          "output_type": "display_data",
          "data": {
            "image/png": "[encoded data removed]",
            "text/plain": [
              "<Figure size 432x288 with 1 Axes>"
            ]
          },
          "metadata": {
            "needs_background": "light"
          }
        }
      ]
    }
  ]
}